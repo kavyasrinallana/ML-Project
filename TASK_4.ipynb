{
  "nbformat": 4,
  "nbformat_minor": 0,
  "metadata": {
    "colab": {
      "provenance": []
    },
    "kernelspec": {
      "name": "python3",
      "display_name": "Python 3"
    },
    "language_info": {
      "name": "python"
    }
  },
  "cells": [
    {
      "cell_type": "code",
      "execution_count": 2,
      "metadata": {
        "colab": {
          "base_uri": "https://localhost:8080/"
        },
        "id": "ZCoof6R6Al6W",
        "outputId": "5c558d32-77c4-4713-e21e-465fa417599f"
      },
      "outputs": [
        {
          "output_type": "stream",
          "name": "stdout",
          "text": [
            "Requirement already satisfied: numpy==1.26.4 in /usr/local/lib/python3.11/dist-packages (1.26.4)\n"
          ]
        }
      ],
      "source": [
        "!pip install numpy==1.26.4\n"
      ]
    },
    {
      "cell_type": "code",
      "source": [
        "!pip install scikit-surprise\n",
        "\n"
      ],
      "metadata": {
        "colab": {
          "base_uri": "https://localhost:8080/"
        },
        "id": "h_Y8VjCnApHr",
        "outputId": "f7902f88-c8ae-428e-b305-a522b373a411"
      },
      "execution_count": 4,
      "outputs": [
        {
          "output_type": "stream",
          "name": "stdout",
          "text": [
            "Collecting scikit-surprise\n",
            "  Downloading scikit_surprise-1.1.4.tar.gz (154 kB)\n",
            "\u001b[?25l     \u001b[90m━━━━━━━━━━━━━━━━━━━━━━━━━━━━━━━━━━━━━━━━\u001b[0m \u001b[32m0.0/154.4 kB\u001b[0m \u001b[31m?\u001b[0m eta \u001b[36m-:--:--\u001b[0m\r\u001b[2K     \u001b[90m━━━━━━━━━━━━━━━━━━━━━━━━━━━━━━━━━━━━━━━\u001b[0m \u001b[32m154.4/154.4 kB\u001b[0m \u001b[31m9.5 MB/s\u001b[0m eta \u001b[36m0:00:00\u001b[0m\n",
            "\u001b[?25h  Installing build dependencies ... \u001b[?25l\u001b[?25hdone\n",
            "  Getting requirements to build wheel ... \u001b[?25l\u001b[?25hdone\n",
            "  Preparing metadata (pyproject.toml) ... \u001b[?25l\u001b[?25hdone\n",
            "Requirement already satisfied: joblib>=1.2.0 in /usr/local/lib/python3.11/dist-packages (from scikit-surprise) (1.5.1)\n",
            "Requirement already satisfied: numpy>=1.19.5 in /usr/local/lib/python3.11/dist-packages (from scikit-surprise) (1.26.4)\n",
            "Requirement already satisfied: scipy>=1.6.0 in /usr/local/lib/python3.11/dist-packages (from scikit-surprise) (1.15.3)\n",
            "Building wheels for collected packages: scikit-surprise\n",
            "  Building wheel for scikit-surprise (pyproject.toml) ... \u001b[?25l\u001b[?25hdone\n",
            "  Created wheel for scikit-surprise: filename=scikit_surprise-1.1.4-cp311-cp311-linux_x86_64.whl size=2469526 sha256=4bf76f28647012be7bf25d6b403f481c02356cfd07ea521e9fe213d66e348290\n",
            "  Stored in directory: /root/.cache/pip/wheels/2a/8f/6e/7e2899163e2d85d8266daab4aa1cdabec7a6c56f83c015b5af\n",
            "Successfully built scikit-surprise\n",
            "Installing collected packages: scikit-surprise\n",
            "Successfully installed scikit-surprise-1.1.4\n"
          ]
        }
      ]
    },
    {
      "cell_type": "code",
      "source": [
        "from surprise import Dataset, Reader, SVD\n",
        "from surprise.model_selection import train_test_split\n",
        "from surprise import accuracy\n",
        "from collections import defaultdict\n",
        "\n",
        "# Load MovieLens 100k dataset\n",
        "data = Dataset.load_builtin('ml-100k')\n",
        "trainset, testset = train_test_split(data, test_size=0.25)\n",
        "\n",
        "# Train SVD model (matrix factorization)\n",
        "model = SVD()\n",
        "model.fit(trainset)\n",
        "\n",
        "# Predict on test set\n",
        "predictions = model.test(testset)\n",
        "\n",
        "# Evaluate performance\n",
        "rmse = accuracy.rmse(predictions)\n",
        "mae = accuracy.mae(predictions)\n",
        "\n",
        "# Get Top-N recommendations for each user\n",
        "def get_top_n(predictions, n=5):\n",
        "    top_n = defaultdict(list)\n",
        "    for uid, iid, true_r, est, _ in predictions:\n",
        "        top_n[uid].append((iid, est))\n",
        "    for uid, user_ratings in top_n.items():\n",
        "        user_ratings.sort(key=lambda x: x[1], reverse=True)\n",
        "        top_n[uid] = user_ratings[:n]\n",
        "    return top_n\n",
        "\n",
        "top_n = get_top_n(predictions, n=5)\n",
        "\n",
        "# Display recommendations for first 3 users\n",
        "for uid, user_ratings in list(top_n.items())[:3]:\n",
        "    print(f\"\\nUser {uid} recommendations:\")\n",
        "    for (iid, rating) in user_ratings:\n",
        "        print(f\"  Item {iid} -> Predicted rating: {rating:.2f}\")\n"
      ],
      "metadata": {
        "colab": {
          "base_uri": "https://localhost:8080/"
        },
        "id": "Ql1liXFHBIrA",
        "outputId": "781b29d8-f4b5-493c-bead-7581faf8f1c0"
      },
      "execution_count": 5,
      "outputs": [
        {
          "output_type": "stream",
          "name": "stdout",
          "text": [
            "Dataset ml-100k could not be found. Do you want to download it? [Y/n] Y\n",
            "Trying to download dataset from https://files.grouplens.org/datasets/movielens/ml-100k.zip...\n",
            "Done! Dataset ml-100k has been saved to /root/.surprise_data/ml-100k\n",
            "RMSE: 0.9331\n",
            "MAE:  0.7354\n",
            "\n",
            "User 328 recommendations:\n",
            "  Item 318 -> Predicted rating: 4.51\n",
            "  Item 205 -> Predicted rating: 4.36\n",
            "  Item 357 -> Predicted rating: 4.34\n",
            "  Item 480 -> Predicted rating: 4.21\n",
            "  Item 216 -> Predicted rating: 4.18\n",
            "\n",
            "User 627 recommendations:\n",
            "  Item 511 -> Predicted rating: 4.30\n",
            "  Item 172 -> Predicted rating: 4.16\n",
            "  Item 180 -> Predicted rating: 4.15\n",
            "  Item 655 -> Predicted rating: 3.89\n",
            "  Item 520 -> Predicted rating: 3.87\n",
            "\n",
            "User 92 recommendations:\n",
            "  Item 56 -> Predicted rating: 4.89\n",
            "  Item 191 -> Predicted rating: 4.54\n",
            "  Item 176 -> Predicted rating: 4.41\n",
            "  Item 318 -> Predicted rating: 4.38\n",
            "  Item 100 -> Predicted rating: 4.32\n"
          ]
        }
      ]
    },
    {
      "cell_type": "code",
      "source": [],
      "metadata": {
        "id": "abFVYkyPCCOV"
      },
      "execution_count": null,
      "outputs": []
    }
  ]
}